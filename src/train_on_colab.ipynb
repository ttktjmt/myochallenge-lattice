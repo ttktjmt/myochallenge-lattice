{
  "cells": [
    {
      "cell_type": "markdown",
      "metadata": {
        "id": "view-in-github",
        "colab_type": "text"
      },
      "source": [
        "<a href=\"https://colab.research.google.com/github/ttktjmt/myochallenge-lattice/blob/main/src/train_on_colab.ipynb\" target=\"_parent\"><img src=\"https://colab.research.google.com/assets/colab-badge.svg\" alt=\"Open In Colab\"/></a>"
      ]
    },
    {
      "cell_type": "markdown",
      "metadata": {
        "id": "l9Ere5knysjo"
      },
      "source": [
        "# Install Dependencies"
      ]
    },
    {
      "cell_type": "code",
      "execution_count": null,
      "metadata": {
        "id": "8Z7QyDDoysjr",
        "outputId": "91776fc4-2ab8-4b34-c61a-ccd34f88b2fa",
        "colab": {
          "base_uri": "https://localhost:8080/"
        }
      },
      "outputs": [
        {
          "output_type": "stream",
          "name": "stdout",
          "text": [
            "/root\n",
            "/root/myochallenge-lattice\n",
            "  Preparing metadata (setup.py) ... \u001b[?25l\u001b[?25hdone\n",
            "  Preparing metadata (setup.py) ... \u001b[?25l\u001b[?25hdone\n",
            "  Preparing metadata (setup.py) ... \u001b[?25l\u001b[?25hdone\n",
            "  Installing build dependencies ... \u001b[?25l\u001b[?25hdone\n",
            "  Getting requirements to build wheel ... \u001b[?25l\u001b[?25hdone\n",
            "  Preparing metadata (pyproject.toml) ... \u001b[?25l\u001b[?25hdone\n",
            "\u001b[2K   \u001b[90m━━━━━━━━━━━━━━━━━━━━━━━━━━━━━━━━━━━━━━━━\u001b[0m \u001b[32m4.5/4.5 MB\u001b[0m \u001b[31m31.0 MB/s\u001b[0m eta \u001b[36m0:00:00\u001b[0m\n",
            "\u001b[2K   \u001b[90m━━━━━━━━━━━━━━━━━━━━━━━━━━━━━━━━━━━━━━━━\u001b[0m \u001b[32m2.4/2.4 MB\u001b[0m \u001b[31m63.5 MB/s\u001b[0m eta \u001b[36m0:00:00\u001b[0m\n",
            "\u001b[2K   \u001b[90m━━━━━━━━━━━━━━━━━━━━━━━━━━━━━━━━━━━━━━━━\u001b[0m \u001b[32m1.1/1.1 MB\u001b[0m \u001b[31m24.0 MB/s\u001b[0m eta \u001b[36m0:00:00\u001b[0m\n",
            "\u001b[2K   \u001b[90m━━━━━━━━━━━━━━━━━━━━━━━━━━━━━━━━━━━━━━━━\u001b[0m \u001b[32m1.1/1.1 MB\u001b[0m \u001b[31m47.4 MB/s\u001b[0m eta \u001b[36m0:00:00\u001b[0m\n",
            "\u001b[2K   \u001b[90m━━━━━━━━━━━━━━━━━━━━━━━━━━━━━━━━━━━━━━━━\u001b[0m \u001b[32m11.9/11.9 MB\u001b[0m \u001b[31m87.9 MB/s\u001b[0m eta \u001b[36m0:00:00\u001b[0m\n",
            "\u001b[2K   \u001b[90m━━━━━━━━━━━━━━━━━━━━━━━━━━━━━━━━━━━━━━━━\u001b[0m \u001b[32m61.2/61.2 kB\u001b[0m \u001b[31m3.6 MB/s\u001b[0m eta \u001b[36m0:00:00\u001b[0m\n",
            "\u001b[2K   \u001b[90m━━━━━━━━━━━━━━━━━━━━━━━━━━━━━━━━━━━━━━━━\u001b[0m \u001b[32m26.5/26.5 MB\u001b[0m \u001b[31m55.2 MB/s\u001b[0m eta \u001b[36m0:00:00\u001b[0m\n",
            "\u001b[2K   \u001b[90m━━━━━━━━━━━━━━━━━━━━━━━━━━━━━━━━━━━━━━━━\u001b[0m \u001b[32m2.3/2.3 MB\u001b[0m \u001b[31m58.1 MB/s\u001b[0m eta \u001b[36m0:00:00\u001b[0m\n",
            "\u001b[2K   \u001b[90m━━━━━━━━━━━━━━━━━━━━━━━━━━━━━━━━━━━━━━━━\u001b[0m \u001b[32m78.2/78.2 kB\u001b[0m \u001b[31m2.8 MB/s\u001b[0m eta \u001b[36m0:00:00\u001b[0m\n",
            "\u001b[2K   \u001b[90m━━━━━━━━━━━━━━━━━━━━━━━━━━━━━━━━━━━━━━━━\u001b[0m \u001b[32m11.5/11.5 MB\u001b[0m \u001b[31m78.5 MB/s\u001b[0m eta \u001b[36m0:00:00\u001b[0m\n",
            "\u001b[2K   \u001b[90m━━━━━━━━━━━━━━━━━━━━━━━━━━━━━━━━━━━━━━━━\u001b[0m \u001b[32m5.9/5.9 MB\u001b[0m \u001b[31m77.7 MB/s\u001b[0m eta \u001b[36m0:00:00\u001b[0m\n",
            "\u001b[2K   \u001b[90m━━━━━━━━━━━━━━━━━━━━━━━━━━━━━━━━━━━━━━━━\u001b[0m \u001b[32m83.9/83.9 MB\u001b[0m \u001b[31m9.0 MB/s\u001b[0m eta \u001b[36m0:00:00\u001b[0m\n",
            "\u001b[2K   \u001b[90m━━━━━━━━━━━━━━━━━━━━━━━━━━━━━━━━━━━━━━━━\u001b[0m \u001b[32m17.1/17.1 MB\u001b[0m \u001b[31m72.0 MB/s\u001b[0m eta \u001b[36m0:00:00\u001b[0m\n",
            "\u001b[2K   \u001b[90m━━━━━━━━━━━━━━━━━━━━━━━━━━━━━━━━━━━━━━━━\u001b[0m \u001b[32m39.3/39.3 MB\u001b[0m \u001b[31m18.2 MB/s\u001b[0m eta \u001b[36m0:00:00\u001b[0m\n",
            "\u001b[2K   \u001b[90m━━━━━━━━━━━━━━━━━━━━━━━━━━━━━━━━━━━━━━━━\u001b[0m \u001b[32m4.6/4.6 MB\u001b[0m \u001b[31m75.8 MB/s\u001b[0m eta \u001b[36m0:00:00\u001b[0m\n",
            "\u001b[2K   \u001b[90m━━━━━━━━━━━━━━━━━━━━━━━━━━━━━━━━━━━━━━━━\u001b[0m \u001b[32m178.7/178.7 kB\u001b[0m \u001b[31m12.2 MB/s\u001b[0m eta \u001b[36m0:00:00\u001b[0m\n",
            "\u001b[2K   \u001b[90m━━━━━━━━━━━━━━━━━━━━━━━━━━━━━━━━━━━━━━━━\u001b[0m \u001b[32m953.9/953.9 kB\u001b[0m \u001b[31m42.8 MB/s\u001b[0m eta \u001b[36m0:00:00\u001b[0m\n",
            "\u001b[2K   \u001b[90m━━━━━━━━━━━━━━━━━━━━━━━━━━━━━━━━━━━━━━━━\u001b[0m \u001b[32m58.8/58.8 kB\u001b[0m \u001b[31m3.6 MB/s\u001b[0m eta \u001b[36m0:00:00\u001b[0m\n",
            "\u001b[2K   \u001b[90m━━━━━━━━━━━━━━━━━━━━━━━━━━━━━━━━━━━━━━━━\u001b[0m \u001b[32m182.3/182.3 kB\u001b[0m \u001b[31m11.5 MB/s\u001b[0m eta \u001b[36m0:00:00\u001b[0m\n",
            "\u001b[2K   \u001b[90m━━━━━━━━━━━━━━━━━━━━━━━━━━━━━━━━━━━━━━━━\u001b[0m \u001b[32m4.9/4.9 MB\u001b[0m \u001b[31m80.4 MB/s\u001b[0m eta \u001b[36m0:00:00\u001b[0m\n",
            "\u001b[2K   \u001b[90m━━━━━━━━━━━━━━━━━━━━━━━━━━━━━━━━━━━━━━━━\u001b[0m \u001b[32m781.3/781.3 kB\u001b[0m \u001b[31m31.9 MB/s\u001b[0m eta \u001b[36m0:00:00\u001b[0m\n",
            "\u001b[2K   \u001b[90m━━━━━━━━━━━━━━━━━━━━━━━━━━━━━━━━━━━━━━━━\u001b[0m \u001b[32m144.2/144.2 kB\u001b[0m \u001b[31m9.2 MB/s\u001b[0m eta \u001b[36m0:00:00\u001b[0m\n",
            "\u001b[2K   \u001b[90m━━━━━━━━━━━━━━━━━━━━━━━━━━━━━━━━━━━━━━━━\u001b[0m \u001b[32m1.7/1.7 MB\u001b[0m \u001b[31m52.0 MB/s\u001b[0m eta \u001b[36m0:00:00\u001b[0m\n",
            "\u001b[2K   \u001b[90m━━━━━━━━━━━━━━━━━━━━━━━━━━━━━━━━━━━━━━━━\u001b[0m \u001b[32m211.8/211.8 kB\u001b[0m \u001b[31m12.6 MB/s\u001b[0m eta \u001b[36m0:00:00\u001b[0m\n",
            "\u001b[2K   \u001b[90m━━━━━━━━━━━━━━━━━━━━━━━━━━━━━━━━━━━━━━━━\u001b[0m \u001b[32m4.9/4.9 MB\u001b[0m \u001b[31m62.9 MB/s\u001b[0m eta \u001b[36m0:00:00\u001b[0m\n",
            "\u001b[?25h"
          ]
        }
      ],
      "source": [
        "import os\n",
        "import logging\n",
        "\n",
        "logging.basicConfig(level=logging.INFO)\n",
        "\n",
        "if 'google.colab' in str(get_ipython()):\n",
        "    logging.info(\"Running on Google Colab\")\n",
        "    repo_dir = 'myochallenge-lattice'\n",
        "\n",
        "    %cd ~\n",
        "    if not os.path.exists(repo_dir):\n",
        "        logging.info(\"Cloning the repository...\")\n",
        "        !git clone https://github.com/ttktjmt/myochallenge-lattice --quiet\n",
        "    else:\n",
        "        logging.info(f\"Repository '{repo_dir}' already exists.\")\n",
        "\n",
        "    %cd myochallenge-lattice\n",
        "\n",
        "%pip install -r ./docker/requirements.txt --quiet"
      ]
    },
    {
      "cell_type": "markdown",
      "metadata": {
        "id": "lMKXIeXuysjt"
      },
      "source": [
        "# Train"
      ]
    },
    {
      "cell_type": "code",
      "execution_count": null,
      "metadata": {
        "id": "FTEVS9b8ysju",
        "outputId": "255503ce-dd33-4116-89e4-add5ad03a9e3"
      },
      "outputs": [
        {
          "name": "stdout",
          "output_type": "stream",
          "text": [
            "pygame 2.6.1 (SDL 2.28.4, Python 3.10.12)\n",
            "Hello from the pygame community. https://www.pygame.org/contribute.html\n",
            "MyoSuite:> Registering Myo Envs\n",
            "Checkpoints list:  []\n",
            "WARNING: No checkpoints at the given path /home/ta747375ki/myochallenge-lattice/output/training_mani/ongoing/_seed_0_max_steps_100_reg_0.001__solved_0_pos_dist_0_rot_dist_0_reach_dist_0_lift_0_max_app_0_reach_z_0, let's see if there is a model at the cli path\n",
            "MyoSuite:> Registering Myo Envs\n",
            "MyoSuite:> Registering Myo Envs\n",
            "MyoSuite:> Registering Myo Envs\n",
            "MyoSuite:> Registering Myo Envs\n",
            "Checkpoints list:  []\n",
            "WARNING: No checkpoints at the given path /home/ta747375ki/myochallenge-lattice/output/training_mani/ongoing/_seed_0_max_steps_100_reg_0.001__solved_0_pos_dist_0_rot_dist_0_reach_dist_0_lift_0_max_app_0_reach_z_0, let's see if there is a model at the cli path\n",
            "\u001b[36m    MyoSuite: A contact-rich simulation suite for musculoskeletal motor control\n",
            "        Vittorio Caggiano, Huawei Wang, Guillaume Durandau, Massimo Sartori, Vikash Kumar\n",
            "        L4DC-2019 | https://sites.google.com/view/myosuite\n",
            "    \u001b[0m\n",
            "Checkpoints list:  []\n",
            "WARNING: No checkpoints at the given path /home/ta747375ki/myochallenge-lattice/output/training_mani/ongoing/_seed_0_max_steps_100_reg_0.001__solved_0_pos_dist_0_rot_dist_0_reach_dist_0_lift_0_max_app_0_reach_z_0, let's see if there is a model at the cli path\n",
            "\u001b[36m    MyoSuite: A contact-rich simulation suite for musculoskeletal motor control\n",
            "        Vittorio Caggiano, Huawei Wang, Guillaume Durandau, Massimo Sartori, Vikash Kumar\n",
            "        L4DC-2019 | https://sites.google.com/view/myosuite\n",
            "    \u001b[0m\n",
            "Checkpoints list:  []\n",
            "WARNING: No checkpoints at the given path /home/ta747375ki/myochallenge-lattice/output/training_mani/ongoing/_seed_0_max_steps_100_reg_0.001__solved_0_pos_dist_0_rot_dist_0_reach_dist_0_lift_0_max_app_0_reach_z_0, let's see if there is a model at the cli path\n",
            "Checkpoints list:  []\n",
            "WARNING: No checkpoints at the given path /home/ta747375ki/myochallenge-lattice/output/training_mani/ongoing/_seed_0_max_steps_100_reg_0.001__solved_0_pos_dist_0_rot_dist_0_reach_dist_0_lift_0_max_app_0_reach_z_0, let's see if there is a model at the cli path\n",
            "\u001b[36m    MyoSuite: A contact-rich simulation suite for musculoskeletal motor control\n",
            "        Vittorio Caggiano, Huawei Wang, Guillaume Durandau, Massimo Sartori, Vikash Kumar\n",
            "        L4DC-2019 | https://sites.google.com/view/myosuite\n",
            "    \u001b[0m\n",
            "\u001b[36m    MyoSuite: A contact-rich simulation suite for musculoskeletal motor control\n",
            "        Vittorio Caggiano, Huawei Wang, Guillaume Durandau, Massimo Sartori, Vikash Kumar\n",
            "        L4DC-2019 | https://sites.google.com/view/myosuite\n",
            "    \u001b[0m\n",
            "/home/ta747375ki/myochallenge-lattice/venv/lib/python3.10/site-packages/gymnasium/core.py:311: UserWarning: \u001b[33mWARN: env.render_mode to get variables from other wrappers is deprecated and will be removed in v1.0, to get this variable you can do `env.unwrapped.render_mode` for environment variables or `env.get_wrapper_attr('render_mode')` that will search the reminding wrappers.\u001b[0m\n",
            "  logger.warn(\n",
            "Process ForkServerProcess-2:\n",
            "/home/ta747375ki/myochallenge-lattice/venv/lib/python3.10/site-packages/gymnasium/core.py:311: UserWarning: \u001b[33mWARN: env.render_mode to get variables from other wrappers is deprecated and will be removed in v1.0, to get this variable you can do `env.unwrapped.render_mode` for environment variables or `env.get_wrapper_attr('render_mode')` that will search the reminding wrappers.\u001b[0m\n",
            "  logger.warn(\n",
            "Process ForkServerProcess-3:\n",
            "/home/ta747375ki/myochallenge-lattice/venv/lib/python3.10/site-packages/gymnasium/core.py:311: UserWarning: \u001b[33mWARN: env.render_mode to get variables from other wrappers is deprecated and will be removed in v1.0, to get this variable you can do `env.unwrapped.render_mode` for environment variables or `env.get_wrapper_attr('render_mode')` that will search the reminding wrappers.\u001b[0m\n",
            "  logger.warn(\n",
            "Process ForkServerProcess-4:\n",
            "/home/ta747375ki/myochallenge-lattice/venv/lib/python3.10/site-packages/gymnasium/core.py:311: UserWarning: \u001b[33mWARN: env.render_mode to get variables from other wrappers is deprecated and will be removed in v1.0, to get this variable you can do `env.unwrapped.render_mode` for environment variables or `env.get_wrapper_attr('render_mode')` that will search the reminding wrappers.\u001b[0m\n",
            "  logger.warn(\n",
            "Process ForkServerProcess-1:\n",
            "Traceback (most recent call last):\n",
            "Traceback (most recent call last):\n",
            "  File \"/usr/lib/python3.10/multiprocessing/process.py\", line 314, in _bootstrap\n",
            "    self.run()\n",
            "  File \"/usr/lib/python3.10/multiprocessing/process.py\", line 108, in run\n",
            "    self._target(*self._args, **self._kwargs)\n",
            "  File \"/home/ta747375ki/myochallenge-lattice/venv/lib/python3.10/site-packages/stable_baselines3/common/vec_env/subproc_vec_env.py\", line 60, in _worker\n",
            "    remote.send(getattr(env, data))\n",
            "  File \"/home/ta747375ki/myochallenge-lattice/venv/lib/python3.10/site-packages/gymnasium/core.py\", line 315, in __getattr__\n",
            "    return getattr(self.env, name)\n",
            "  File \"/usr/lib/python3.10/multiprocessing/process.py\", line 314, in _bootstrap\n",
            "    self.run()\n",
            "  File \"/home/ta747375ki/myochallenge-lattice/venv/lib/python3.10/site-packages/gym/core.py\", line 217, in __getattr__\n",
            "    return getattr(self.env, name)\n",
            "  File \"/usr/lib/python3.10/multiprocessing/process.py\", line 108, in run\n",
            "    self._target(*self._args, **self._kwargs)\n",
            "  File \"/home/ta747375ki/myochallenge-lattice/venv/lib/python3.10/site-packages/stable_baselines3/common/vec_env/subproc_vec_env.py\", line 60, in _worker\n",
            "    remote.send(getattr(env, data))\n",
            "AttributeError: 'CustomRelocateEnvPhase2' object has no attribute 'render_mode'\n",
            "  File \"/home/ta747375ki/myochallenge-lattice/venv/lib/python3.10/site-packages/gymnasium/core.py\", line 315, in __getattr__\n",
            "    return getattr(self.env, name)\n",
            "  File \"/home/ta747375ki/myochallenge-lattice/venv/lib/python3.10/site-packages/gym/core.py\", line 217, in __getattr__\n",
            "    return getattr(self.env, name)\n",
            "AttributeError: 'CustomRelocateEnvPhase2' object has no attribute 'render_mode'\n",
            "Traceback (most recent call last):\n",
            "  File \"/usr/lib/python3.10/multiprocessing/process.py\", line 314, in _bootstrap\n",
            "    self.run()\n",
            "  File \"/usr/lib/python3.10/multiprocessing/process.py\", line 108, in run\n",
            "    self._target(*self._args, **self._kwargs)\n",
            "  File \"/home/ta747375ki/myochallenge-lattice/venv/lib/python3.10/site-packages/stable_baselines3/common/vec_env/subproc_vec_env.py\", line 60, in _worker\n",
            "    remote.send(getattr(env, data))\n",
            "  File \"/home/ta747375ki/myochallenge-lattice/venv/lib/python3.10/site-packages/gymnasium/core.py\", line 315, in __getattr__\n",
            "    return getattr(self.env, name)\n",
            "  File \"/home/ta747375ki/myochallenge-lattice/venv/lib/python3.10/site-packages/gym/core.py\", line 217, in __getattr__\n",
            "    return getattr(self.env, name)\n",
            "AttributeError: 'CustomRelocateEnvPhase2' object has no attribute 'render_mode'\n",
            "Traceback (most recent call last):\n",
            "  File \"/usr/lib/python3.10/multiprocessing/process.py\", line 314, in _bootstrap\n",
            "    self.run()\n",
            "  File \"/usr/lib/python3.10/multiprocessing/process.py\", line 108, in run\n",
            "    self._target(*self._args, **self._kwargs)\n",
            "  File \"/home/ta747375ki/myochallenge-lattice/venv/lib/python3.10/site-packages/stable_baselines3/common/vec_env/subproc_vec_env.py\", line 60, in _worker\n",
            "    remote.send(getattr(env, data))\n",
            "  File \"/home/ta747375ki/myochallenge-lattice/venv/lib/python3.10/site-packages/gymnasium/core.py\", line 315, in __getattr__\n",
            "    return getattr(self.env, name)\n",
            "  File \"/home/ta747375ki/myochallenge-lattice/venv/lib/python3.10/site-packages/gym/core.py\", line 217, in __getattr__\n",
            "    return getattr(self.env, name)\n",
            "AttributeError: 'CustomRelocateEnvPhase2' object has no attribute 'render_mode'\n",
            "Traceback (most recent call last):\n",
            "  File \"/home/ta747375ki/myochallenge-lattice/src/./main_challenge_manipulation_phase2.py\", line 235, in <module>\n",
            "    envs = create_vec_env(env_config, \n",
            "  File \"/home/ta747375ki/myochallenge-lattice/src/envs/helpers.py\", line 120, in create_vec_env\n",
            "    envs = make_parallel_envs(\n",
            "  File \"/home/ta747375ki/myochallenge-lattice/src/envs/helpers.py\", line 106, in make_parallel_envs\n",
            "    return SubprocVecEnv([make_env(i + seed) for i in range(num_env)])\n",
            "  File \"/home/ta747375ki/myochallenge-lattice/venv/lib/python3.10/site-packages/stable_baselines3/common/vec_env/subproc_vec_env.py\", line 121, in __init__\n",
            "    super().__init__(len(env_fns), observation_space, action_space)\n",
            "  File \"/home/ta747375ki/myochallenge-lattice/venv/lib/python3.10/site-packages/stable_baselines3/common/vec_env/base_vec_env.py\", line 75, in __init__\n",
            "    render_modes = self.get_attr(\"render_mode\")\n",
            "  File \"/home/ta747375ki/myochallenge-lattice/venv/lib/python3.10/site-packages/stable_baselines3/common/vec_env/subproc_vec_env.py\", line 173, in get_attr\n",
            "    return [remote.recv() for remote in target_remotes]\n",
            "  File \"/home/ta747375ki/myochallenge-lattice/venv/lib/python3.10/site-packages/stable_baselines3/common/vec_env/subproc_vec_env.py\", line 173, in <listcomp>\n",
            "    return [remote.recv() for remote in target_remotes]\n",
            "  File \"/usr/lib/python3.10/multiprocessing/connection.py\", line 250, in recv\n",
            "    buf = self._recv_bytes()\n",
            "  File \"/usr/lib/python3.10/multiprocessing/connection.py\", line 414, in _recv_bytes\n",
            "    buf = self._recv(4)\n",
            "  File \"/usr/lib/python3.10/multiprocessing/connection.py\", line 383, in _recv\n",
            "    raise EOFError\n",
            "EOFError\n"
          ]
        }
      ],
      "source": [
        "!python ./main_challenge_manipulation_phase2.py \\\n",
        "    --num_envs 4 \\\n",
        "    --num_steps 100000 \\\n",
        "    --save_every 50000 \\\n",
        "    --checkpoint_num 4 \\\n",
        "    --batch_size 64"
      ]
    }
  ],
  "metadata": {
    "kernelspec": {
      "display_name": "venv",
      "language": "python",
      "name": "python3"
    },
    "language_info": {
      "codemirror_mode": {
        "name": "ipython",
        "version": 3
      },
      "file_extension": ".py",
      "mimetype": "text/x-python",
      "name": "python",
      "nbconvert_exporter": "python",
      "pygments_lexer": "ipython3",
      "version": "3.10.12"
    },
    "colab": {
      "provenance": [],
      "include_colab_link": true
    }
  },
  "nbformat": 4,
  "nbformat_minor": 0
}