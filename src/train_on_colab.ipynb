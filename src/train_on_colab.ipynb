{
  "cells": [
    {
      "cell_type": "markdown",
      "metadata": {
        "colab_type": "text",
        "id": "view-in-github"
      },
      "source": [
        "<a href=\"https://colab.research.google.com/github/ttktjmt/myochallenge-lattice/blob/main/src/train_on_colab.ipynb\" target=\"_parent\"><img src=\"https://colab.research.google.com/assets/colab-badge.svg\" alt=\"Open In Colab\"/></a>"
      ]
    },
    {
      "cell_type": "markdown",
      "metadata": {
        "id": "l9Ere5knysjo"
      },
      "source": [
        "# Install Dependencies"
      ]
    },
    {
      "cell_type": "code",
      "execution_count": 7,
      "metadata": {
        "colab": {
          "base_uri": "https://localhost:8080/"
        },
        "id": "8Z7QyDDoysjr",
        "outputId": "cfdeb79b-960d-4e85-af72-ef5afa41dbf0"
      },
      "outputs": [
        {
          "name": "stdout",
          "output_type": "stream",
          "text": [
            "Note: you may need to restart the kernel to use updated packages.\n"
          ]
        }
      ],
      "source": [
        "import os\n",
        "import logging\n",
        "\n",
        "logging.basicConfig(level=logging.INFO)\n",
        "\n",
        "if 'google.colab' in str(get_ipython()):\n",
        "    logging.info(\"Running on Google Colab\")\n",
        "    repo_dir = 'myochallenge-lattice'\n",
        "\n",
        "    %cd /content\n",
        "    if not os.path.exists(repo_dir):\n",
        "        logging.info(\"Cloning the repository...\")\n",
        "        !git clone https://github.com/ttktjmt/myochallenge-lattice --quiet\n",
        "    else:\n",
        "        logging.info(f\"Repository '{repo_dir}' already exists.\")\n",
        "\n",
        "    %cd myochallenge-lattice/src\n",
        "\n",
        "%pip install -r ../docker/requirements.txt --quiet"
      ]
    },
    {
      "cell_type": "markdown",
      "metadata": {
        "id": "lMKXIeXuysjt"
      },
      "source": [
        "# Train"
      ]
    },
    {
      "cell_type": "code",
      "execution_count": 6,
      "metadata": {
        "colab": {
          "base_uri": "https://localhost:8080/"
        },
        "id": "FTEVS9b8ysju",
        "outputId": "8c6af257-6b6b-4024-a0b9-6e5082ece109"
      },
      "outputs": [
        {
          "name": "stdout",
          "output_type": "stream",
          "text": [
            "pygame 2.6.1 (SDL 2.28.4, Python 3.10.12)\n",
            "Hello from the pygame community. https://www.pygame.org/contribute.html\n",
            "MyoSuite:> Registering Myo Envs\n",
            "Checkpoints list:  []\n",
            "WARNING: No checkpoints at the given path /home/ta747375ki/myochallenge-lattice/output/training_mani/ongoing/_seed_0_max_steps_100_reg_0.001__solved_0_pos_dist_0_rot_dist_0_reach_dist_0_lift_0_max_app_0_reach_z_0, let's see if there is a model at the cli path\n",
            "Traceback (most recent call last):\n",
            "  File \"/home/ta747375ki/myochallenge-lattice/src/./main_challenge_manipulation_phase2.py\", line 232, in <module>\n",
            "    tensorboard_callback = TensorboardCallback(args.env_name, info_keywords=ENV_INFO[args.env_name])\n",
            "KeyError: 'myoChallengeBimanual-v0'\n"
          ]
        }
      ],
      "source": [
        "!python ./main_challenge_bimanual.py \\\n",
        "    --num_envs 4 \\\n",
        "    --num_steps 100000 \\\n",
        "    --save_every 50000 \\\n",
        "    --checkpoint_num 4 \\\n",
        "    --batch_size 64"
      ]
    }
  ],
  "metadata": {
    "colab": {
      "include_colab_link": true,
      "provenance": []
    },
    "kernelspec": {
      "display_name": "venv",
      "language": "python",
      "name": "python3"
    },
    "language_info": {
      "codemirror_mode": {
        "name": "ipython",
        "version": 3
      },
      "file_extension": ".py",
      "mimetype": "text/x-python",
      "name": "python",
      "nbconvert_exporter": "python",
      "pygments_lexer": "ipython3",
      "version": "3.10.12"
    }
  },
  "nbformat": 4,
  "nbformat_minor": 0
}
